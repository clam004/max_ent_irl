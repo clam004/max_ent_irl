{
 "cells": [
  {
   "cell_type": "code",
   "execution_count": 31,
   "metadata": {},
   "outputs": [
    {
     "name": "stdout",
     "output_type": "stream",
     "text": [
      "Populating the interactive namespace from numpy and matplotlib\n"
     ]
    }
   ],
   "source": [
    "import gym\n",
    "%pylab inline\n",
    "import pylab\n",
    "import numpy as np"
   ]
  },
  {
   "cell_type": "markdown",
   "metadata": {
    "collapsed": true
   },
   "source": [
    "# Maximum Entropy Inverse Reinforcement Learning (MaxEntIRL)\n",
    "\n",
    "The Mountain Car problem is \"on a one-dimensional track, positioned between two “mountains”. The goal is to drive up the mountain on the right; however, the car’s engine is not strong enough to scale the mountain in a single pass. Therefore, the only way to succeed is to drive back and forth to build up momentum.\"\n",
    "\n",
    "<img src='https://miro.medium.com/max/1104/1*JjBfoFrKCoBxlraVZaEshw.jpeg'>\n",
    "\n",
    "The car’s state, at any point in time, is given by a vector containing its horizonal position and velocity. The car commences each episode stationary, at the bottom of the valley between the hills (at position, x, approximately -0.5), and the episode ends when either the car reaches the flag (position > 0.5) or after 200 moves.\n",
    "\n",
    "Your state, s, is a 2-dim vector that will be (position, velocity) or (x,v) of (-0.5,0) in the beginning because the velocity is 0 and x = -0.5 is the valley between the two mountains which is left of center (there is about a distance of 1.1 in front of you and a distance of -0.7 behind you). Only the x-axis is part of the state, the elevation (y-axis) and gravity is implicit. \n",
    "\n",
    "The velocity is positive is you are moving forward to the right, and negative if you are moving to the left. \n",
    "\n",
    "action 0 is do nothing, action 1 is run the car in reverse towards the left mountain located at `state[0]=-1.2`,\n",
    "action 2 is run the car forward towards `state[0]=0.6`\n"
   ]
  },
  {
   "cell_type": "code",
   "execution_count": 2,
   "metadata": {},
   "outputs": [],
   "source": [
    "# # MACROS\n",
    "Push_Left = 0\n",
    "No_Push = 1\n",
    "Push_Right = 2"
   ]
  },
  {
   "cell_type": "code",
   "execution_count": 3,
   "metadata": {},
   "outputs": [
    {
     "name": "stdout",
     "output_type": "stream",
     "text": [
      "(array([-4.90682084e-01, -2.48327461e-04]), -1.0, False, {})\n",
      "(array([-0.49552003, -0.00142585]), -1.0, False, {})\n",
      "(array([-0.5055381, -0.0023409]), -1.0, False, {})\n",
      "(array([-0.51889013, -0.00282428]), -1.0, False, {})\n",
      "(array([-0.53311171, -0.00278615]), -1.0, False, {})\n",
      "(array([-0.54557669, -0.00223363]), -1.0, False, {})\n",
      "(array([-0.55398543, -0.00126931]), -1.0, False, {})\n",
      "(array([-5.56789245e-01, -7.13889865e-05]), -1.0, False, {})\n",
      "(array([-0.55347239,  0.00113966]), -1.0, False, {})\n",
      "(array([-0.54464503,  0.002141  ]), -1.0, False, {})\n",
      "(array([-0.53193317,  0.00274771]), -1.0, False, {})\n",
      "(array([-0.51768229,  0.00284717]), -1.0, False, {})\n",
      "(array([-0.50452399,  0.00242087]), -1.0, False, {})\n",
      "(array([-0.49488668,  0.00154805]), -1.0, False, {})\n",
      "(array([-4.90546092e-01,  3.90223111e-04]), -1.0, False, {})\n",
      "(array([-0.49230084, -0.00083937]), -1.0, False, {})\n",
      "(array([-0.49982818, -0.00191456]), -1.0, False, {})\n",
      "(array([-0.51174214, -0.00263702]), -1.0, False, {})\n",
      "(array([-0.52584533, -0.00287282]), -1.0, False, {})\n",
      "(array([-0.53953364, -0.00257809]), -1.0, False, {})\n"
     ]
    }
   ],
   "source": [
    "# Initialize environment and reset it to start at valley with 0 velocity\n",
    "env = gym.make('MountainCar-v0')\n",
    "env.reset() # array([-0.44943939,  0.        ])\n",
    "\n",
    "# experiment with constantly moving in one direction or the other to see what happens\n",
    "const_action = No_Push\n",
    "for t in range(100):\n",
    "    update = env.step(const_action)\n",
    "    if t % 5 == 0:\n",
    "        print(update)\n",
    "    \n",
    "# if you do nothing you jus swing side to side, but your position stays in (-0.64,-0.4)\n",
    "# your velocity stays in (-0.01,+0.01)"
   ]
  },
  {
   "cell_type": "code",
   "execution_count": 4,
   "metadata": {},
   "outputs": [
    {
     "name": "stdout",
     "output_type": "stream",
     "text": [
      "(array([-5.80546953e-01,  4.28201021e-04]), -1.0, False, {})\n",
      "(array([-0.57220265,  0.00245964]), -1.0, False, {})\n",
      "(array([-0.55491257,  0.00404139]), -1.0, False, {})\n",
      "(array([-0.53184862,  0.00488026]), -1.0, False, {})\n",
      "(array([-0.50726168,  0.00481851]), -1.0, False, {})\n",
      "(array([-0.48568991,  0.00386784]), -1.0, False, {})\n",
      "(array([-0.47110389,  0.0022067 ]), -1.0, False, {})\n",
      "(array([-4.66174844e-01,  1.42353636e-04]), -1.0, False, {})\n",
      "(array([-0.47180201, -0.00194793]), -1.0, False, {})\n",
      "(array([-0.48695862, -0.0036825 ]), -1.0, False, {})\n",
      "(array([-0.50886803, -0.00474114]), -1.0, False, {})\n",
      "(array([-0.53349632, -0.00492546]), -1.0, False, {})\n",
      "(array([-0.55629752, -0.00420062]), -1.0, False, {})\n",
      "(array([-0.57307017, -0.0027031 ]), -1.0, False, {})\n",
      "(array([-0.58073838, -0.00071104]), -1.0, False, {})\n",
      "(array([-0.5779022 ,  0.00141063]), -1.0, False, {})\n",
      "(array([-0.56507889,  0.00327496]), -1.0, False, {})\n",
      "(array([-0.54461455,  0.00453905]), -1.0, False, {})\n",
      "(array([-0.52027243,  0.00496691]), -1.0, False, {})\n",
      "(array([-0.49654442,  0.00447776]), -1.0, False, {})\n"
     ]
    }
   ],
   "source": [
    "# Initialize environment and reset it to start at valley with 0 velocity\n",
    "env = gym.make('MountainCar-v0')\n",
    "env.reset() # array([-0.44943939,  0.        ])\n",
    "\n",
    "# experiment with constantly moving in one direction or the other to see what happens\n",
    "# constantly do nothing\n",
    "const_action = No_Push\n",
    "for t in range(100):\n",
    "    update = env.step(const_action)\n",
    "    if t % 5 == 0:\n",
    "        print(update)\n",
    "    \n",
    "# if you do nothing you jus swing side to side, but your position stays in (-0.64,-0.4)\n",
    "# your velocity stays in (-0.01,+0.01)"
   ]
  },
  {
   "cell_type": "code",
   "execution_count": 5,
   "metadata": {},
   "outputs": [
    {
     "name": "stdout",
     "output_type": "stream",
     "text": [
      "(array([-4.35774143e-01,  3.51454974e-04]), -1.0, False, {})\n",
      "(array([-0.42892149,  0.00202079]), -1.0, False, {})\n",
      "(array([-0.41468882,  0.0033319 ]), -1.0, False, {})\n",
      "(array([-0.395581  ,  0.00405957]), -1.0, False, {})\n",
      "(array([-0.37490578,  0.00409019]), -1.0, False, {})\n",
      "(array([-0.3561608 ,  0.00343614]), -1.0, False, {})\n",
      "(array([-0.34243423,  0.00222232]), -1.0, False, {})\n",
      "(array([-0.33593213,  0.00065469]), -1.0, False, {})\n",
      "(array([-0.33768203, -0.00101588]), -1.0, False, {})\n",
      "(array([-0.34740854, -0.00252646]), -1.0, False, {})\n",
      "(array([-0.36356573, -0.00363307]), -1.0, False, {})\n",
      "(array([-0.38353143, -0.00414438]), -1.0, False, {})\n",
      "(array([-0.40397919, -0.00395784]), -1.0, False, {})\n",
      "(array([-0.42141405, -0.00308839]), -1.0, False, {})\n",
      "(array([-0.43279422, -0.00167634]), -1.0, False, {})\n",
      "(array([-4.36107325e-01,  3.33797158e-05]), -1.0, False, {})\n",
      "(array([-0.43076386,  0.00173715]), -1.0, False, {})\n",
      "(array([-0.41771379,  0.00313254]), -1.0, False, {})\n",
      "(array([-0.39925896,  0.00397787]), -1.0, False, {})\n",
      "(array([-0.37860535,  0.0041374 ]), -1.0, False, {})\n"
     ]
    }
   ],
   "source": [
    "# Initialize environment and reset it to start at valley with 0 velocity\n",
    "env = gym.make('MountainCar-v0')\n",
    "env.reset() # array([-0.44943939,  0.        ])\n",
    "\n",
    "# experiment with constantly moving in one direction or the other to see what happens\n",
    "# constantly go right\n",
    "const_action = Push_Right\n",
    "for t in range(100):\n",
    "    update = env.step(const_action)\n",
    "    if t % 5 == 0:\n",
    "        print(update)\n",
    "    \n",
    "# if you constantly go right,  your position stays in (-0.52,-0.24)\n",
    "# your velocity stays in (-0.011,+0.011)"
   ]
  },
  {
   "cell_type": "code",
   "execution_count": 6,
   "metadata": {},
   "outputs": [
    {
     "name": "stdout",
     "output_type": "stream",
     "text": [
      "(array([-0.40664363, -0.00187245]), -1.0, False, {})\n",
      "(array([-0.44317188, -0.01077461]), -1.0, False, {})\n",
      "(array([-0.51902217, -0.01774168]), -1.0, False, {})\n",
      "(array([-0.62034497, -0.02145069]), -1.0, False, {})\n",
      "(array([-0.72882767, -0.02136434]), -1.0, False, {})\n",
      "(array([-0.82663192, -0.01798935]), -1.0, False, {})\n",
      "(array([-0.90061614, -0.01246169]), -1.0, False, {})\n",
      "(array([-0.9433909 , -0.00586423]), -1.0, False, {})\n",
      "(array([-0.95186324,  0.00110282]), -1.0, False, {})\n",
      "(array([-0.92553048,  0.00800718]), -1.0, False, {})\n",
      "(array([-0.86607549,  0.01436238]), -1.0, False, {})\n",
      "(array([-0.77855488,  0.0193428 ]), -1.0, False, {})\n",
      "(array([-0.67324759,  0.02178924]), -1.0, False, {})\n",
      "(array([-0.56606887,  0.02068764]), -1.0, False, {})\n",
      "(array([-0.47575798,  0.015847  ]), -1.0, False, {})\n",
      "(array([-0.41885329,  0.00810581]), -1.0, False, {})\n",
      "(array([-0.40561892, -0.00107687]), -1.0, False, {})\n",
      "(array([-0.43838899, -0.01007077]), -1.0, False, {})\n",
      "(array([-0.51134165, -0.01726094]), -1.0, False, {})\n",
      "(array([-0.61117738, -0.02128251]), -1.0, False, {})\n"
     ]
    }
   ],
   "source": [
    "# Initialize environment and reset it to start at valley with 0 velocity\n",
    "env = gym.make('MountainCar-v0')\n",
    "env.reset() # array([-0.44943939,  0.        ])\n",
    "\n",
    "# experiment with constantly moving in one direction or the other to see what happens\n",
    "# constantly go left\n",
    "const_action = Push_Left\n",
    "for t in range(100):\n",
    "    update = env.step(const_action)\n",
    "    if t % 5 == 0:\n",
    "        print(update)\n",
    "    \n",
    "# if you constantly go left,  your position stays in (-0.85,-0.48)\n",
    "# your velocity stays in (-0.015,+0.011)"
   ]
  },
  {
   "cell_type": "code",
   "execution_count": 47,
   "metadata": {},
   "outputs": [
    {
     "name": "stdout",
     "output_type": "stream",
     "text": [
      "Action space:  Discrete(3)\n"
     ]
    }
   ],
   "source": [
    "print('Action space: ', env.action_space)\n",
    "n_actions = env.action_space.n"
   ]
  },
  {
   "cell_type": "code",
   "execution_count": 48,
   "metadata": {},
   "outputs": [
    {
     "name": "stdout",
     "output_type": "stream",
     "text": [
      "[-1.2  -0.07] [0.6  0.07] [0.09  0.007] 1.8000000715255737 0.14000000432133675\n"
     ]
    }
   ],
   "source": [
    "'''\n",
    "To descretize the state space, we separate the range of possible continuous positions x and\n",
    "continuous velocities v into 20 bins (one_feature)\n",
    "'''\n",
    "\n",
    "n_feature_bins = 20 # number of state per one feature\n",
    "\n",
    "env_low = env.observation_space.low     \n",
    "env_high = env.observation_space.high   \n",
    "env_distance = (env_high - env_low) / n_feature_bins \n",
    "\n",
    "print(env_low, env_high, env_distance, env_distance[0]*20, env_distance[1]*20)\n",
    "# the range of x is 1.8 and velocity is 0.14 \n",
    "\n",
    "n_states = n_feature_bins*n_feature_bins # states are the space of combinations of x and v"
   ]
  },
  {
   "cell_type": "markdown",
   "metadata": {},
   "source": [
    "in the update, the tuple  (array([-0.66511328, -0.01531442]), -1.0, False, {})\n",
    " contains the (state, reward, end_of_episode_bool, meta_data)\n",
    "the meta_data is empty for this environment, there is a negative reward for every timestep that \n",
    " you have not reached the goal yet. "
   ]
  },
  {
   "cell_type": "code",
   "execution_count": 49,
   "metadata": {},
   "outputs": [
    {
     "name": "stdout",
     "output_type": "stream",
     "text": [
      "(20, 130, 3)\n",
      "[-0.90691623 -0.02983074  0.        ] (3,)\n"
     ]
    }
   ],
   "source": [
    "# load the expert 20 demonstrations\n",
    "#expert_demo = np.load('/shared/Carson/RL/lets-do-irl/mountaincar/maxent/expert_demo/expert_demo.npy')\n",
    "expert_demo = np.load('Data/expert_demo.npy')\n",
    "print(expert_demo.shape)\n",
    "# (number of demonstrations, length of demonstrations, states and actions of demonstrations)\n",
    "print(expert_demo[0,60,:], expert_demo[0,0,:].shape)\n",
    "# as you can see from step 60 of the first example, the best strategy is to first accelerate backwards into\n",
    "# the < -0.8 range into order to gain speed going right into the valley. "
   ]
  },
  {
   "cell_type": "code",
   "execution_count": 50,
   "metadata": {},
   "outputs": [],
   "source": [
    "'''\n",
    "using this bin size we descretize the expert demonstrations\n",
    "The difference between expert_demo and demonstrations is that\n",
    "demonstrations consists of discreet integers instead of continuous values\n",
    "for it's states\n",
    "\n",
    "\n",
    "\n",
    "here I used n for sample index and t for timestep index\n",
    "'''\n",
    "def idx_state(state):\n",
    "    '''\n",
    "    this function converts a continuous state vector of\n",
    "    2-dim into a discrete index\n",
    "    \n",
    "    by assigning each state and index of state_idx = position_idx + velocity_idx * one_feature\n",
    "    we make sure that (position_idx, velocity_idx) = (2,3) and (3,2) map to different integers\n",
    "    The first 20 elements of state_idx go to position_idx = 0 - 19, velocity_idx = 0, etc\n",
    "    '''\n",
    "    position_idx = int((state[0] - env_low[0]) / env_distance[0])\n",
    "    velocity_idx = int((state[1] - env_low[1]) / env_distance[1])\n",
    "    state_idx = position_idx + velocity_idx * one_feature\n",
    "    return state_idx\n",
    "\n",
    "demonstrations = np.zeros((len(expert_demo), len(expert_demo[0]), 3))\n",
    "\n",
    "for n in range(len(expert_demo)):\n",
    "    \n",
    "    for t in range(len(expert_demo[0])):\n",
    "\n",
    "        state_idx = idx_state(expert_demo[n][t])\n",
    "\n",
    "        demonstrations[n][t][0] = state_idx\n",
    "        demonstrations[n][t][1] = expert_demo[n][t][2] "
   ]
  },
  {
   "cell_type": "markdown",
   "metadata": {},
   "source": [
    "Q-Learning is a “model-free, off-policy” RL algorithm.\n",
    "\n",
    "“model-free” because we are not trying to build a pre-determined model of our environment (which may or may not be accurate)\n",
    "\n",
    "“off-policy” because our behavior in interacting with (or exploring) the environment may be unrelated to what we believe to be the best optimal at the time of taking the action.\n",
    "\n",
    "You might think of Q-learning as updating a table where each row is a different state and each column is an action that can be taken in that state and where they intersect is the Q-value for that state action pair. the Q-table maps various (state, action) pairs with the Q-value (the expected sum of discounter future rewards when taking action a in state s and behaving optimally thereafter)\n",
    "\n",
    "It doesnt have to be a square table like this though, Q just has to map some state or state-action to some Q-value\n",
    "\n",
    "In the above example you can see that the pattern is that we observe some state, s, take an action a, and receive a new state s’, then repeat. \n",
    "\n",
    "The update rule is the weighted average of the old Q(s,a) value and the Q value implied by the new observation. That is, the sum of (i) the immediate reward and (ii) the expected discounted reward received from the new state onwards, assuming you always choose the optimal action.\n",
    "\n",
    "Q’(s,a) = (1 — alpha) * Q(s, a) + alpha *(r + gamma * Q(s’, argmax a’ : Q(s’, a’)))\n",
    "\n",
    "where argmax a’ : Q(s’, a’) is the action  a’ that has the highest current Q value among our row of states s’\n",
    "\n",
    "This equation for update is equivalently written \n",
    "\n",
    "𝑄(𝑠,𝑎)←𝑄(𝑠,𝑎)+𝛼(𝑟+𝛾*max_𝑎′𝑄(𝑠′,𝑎′)−𝑄(𝑠,𝑎)) \n"
   ]
  },
  {
   "cell_type": "code",
   "execution_count": 63,
   "metadata": {},
   "outputs": [],
   "source": [
    "q_table = np.zeros((n_states, n_actions)) # (400, 3)\n",
    "\n",
    "def update_q_table(state, action, reward, q_learning_rate, gamma, next_state):\n",
    "    ''' \n",
    "    The Q-learning update rule\n",
    "    𝑄(𝑠,𝑎)←𝑄(𝑠,𝑎)+𝛼(𝑟+𝛾*max_𝑎′𝑄(𝑠′,𝑎′)−𝑄(𝑠,𝑎))\n",
    "    𝛾 or gamma, is the discount factor\n",
    "    𝛼 or alpha, is the q_learning_rate\n",
    "    '''\n",
    "    q_1 = q_table[state][action]\n",
    "    #print(reward, gamma, max(q_table[next_state])) \n",
    "    q_2 = reward + gamma * max(q_table[next_state])\n",
    "    q_table[state][action] += q_learning_rate * (q_2 - q_1)"
   ]
  },
  {
   "cell_type": "markdown",
   "metadata": {},
   "source": [
    "# What is Inverse Reinforcement Learning (IRL)\n",
    "\n",
    "In IRL, instead of randomly exploring the world learning by trial and error, we want to approximate the reward function that experts are using by observing expert demonstrations. This reward function is parameterized by theta\n",
    "\n",
    "if $f_si$ is the feature vector of some state_i, then the reward = theta.dot(f_si)"
   ]
  },
  {
   "cell_type": "code",
   "execution_count": 57,
   "metadata": {},
   "outputs": [],
   "source": [
    "def get_reward(feature_matrix, theta, n_states, state_idx):\n",
    "    \n",
    "    '''\n",
    "    theta is the same length as the number of states, so this\n",
    "    just a list of the rewards associated with being in each \n",
    "    state and the function here simply selects the\n",
    "    element in theta that corresponds to the sate\n",
    "    '''\n",
    "    \n",
    "    irl_rewards = feature_matrix.dot(theta).reshape((n_states,))\n",
    "    \n",
    "    return irl_rewards[state_idx]"
   ]
  },
  {
   "cell_type": "markdown",
   "metadata": {},
   "source": [
    "# What is the Objective Function in MaxEntIRL?\n",
    "\n",
    "Maximizing the entropy of the distribution over paths subject to the feature constraints from observed data implies that we maximize the likelihood of the observed data under the maximum entropy (exponential family) distribution.\n",
    "\n",
    "The Product of Probabilites vs The Log Sum of Probabilities\n",
    "\n",
    "$\n",
    "\\log \\left(\\prod_i P(x_i)\\right) = \\sum_i \\log \\left( P(x_i)\\right)\n",
    "$\n",
    "\n",
    "the logarithm is a monotonic transformation that preserves the locations of the extrema, in particular, the estimated parameters in maximum-likelihood are identical for the original and the log-transformed formulation, while also morenumerically stable and symbolically easier to differentiate than the former since the sum rule is easier than the product rule for differentiation\n",
    "\n",
    "Find the Reward Parameters that maximize the likelihood of the expert trajectories, theta_star\n",
    "\n",
    "$ \n",
    "\\theta^{*} = \\underset{\\theta}{\\arg\\max} \\underset{demonstrations}\\prod[P(trajectories|\\theta)] = \\underset{\\theta}{\\arg\\max} \\underset{demonstrations}\\sum log[P(trajectories|\\theta)] = \\underset{\\theta}{\\arg\\max} L(\\theta)\n",
    "$\n",
    "\n",
    "The gradient for this Loss function L is\n",
    "\n",
    "$\\nabla L(\\theta) = f_{expert} - \\underset{trajectories}\\sum P(trajectory|\\theta)f_{learner}\n",
    "= f_{expert} - \\underset{states}\\sum D_{s} f_{s}\n",
    "$\n",
    "\n",
    "Where D_s is the expected state visitation frequencies\n",
    "\n",
    "gradient = expected_expert_feats - expected_learner_feats"
   ]
  },
  {
   "cell_type": "code",
   "execution_count": 58,
   "metadata": {},
   "outputs": [],
   "source": [
    "def update_theta(expert, learner, theta, theta_learning_rate):\n",
    "    '''\n",
    "    The gradient is the difference between expected\n",
    "    empirical feature counts and the learner’s expected feature\n",
    "    counts, which can be expressed in terms of expected state\n",
    "    visitation frequencies, D_si\n",
    "    \n",
    "    the two lines below apply these two formulas\n",
    "    \n",
    "    ∇𝐿(𝜃)=𝑓_𝑒𝑥𝑝𝑒𝑟𝑡−∑𝑡𝑟𝑎𝑗𝑒𝑐𝑡𝑜𝑟𝑖𝑒𝑠𝑃(𝑡𝑟𝑎𝑗𝑒𝑐𝑡𝑜𝑟𝑦|𝜃)𝑓_𝑙𝑒𝑎𝑟𝑛𝑒𝑟=𝑓_𝑒𝑥𝑝𝑒𝑟𝑡−∑𝑠𝑡𝑎𝑡𝑒𝑠𝐷𝑠𝑓𝑠\n",
    "    \n",
    "    𝜃 := 𝜃 + 𝛼∇𝐿(𝜃)\n",
    "    \n",
    "    where 𝛼 is the theta_learning_rate, not the q-learning learning rate\n",
    "    '''\n",
    "    gradient = expert - learner\n",
    "    theta += theta_learning_rate * gradient\n",
    "\n",
    "    # Clip theta\n",
    "    for j in range(len(theta)):\n",
    "        if theta[j] > 0:\n",
    "            theta[j] = 0"
   ]
  },
  {
   "cell_type": "code",
   "execution_count": 59,
   "metadata": {},
   "outputs": [
    {
     "name": "stdout",
     "output_type": "stream",
     "text": [
      "[[1. 0. 0. ... 0. 0. 0.]\n",
      " [0. 1. 0. ... 0. 0. 0.]\n",
      " [0. 0. 1. ... 0. 0. 0.]\n",
      " ...\n",
      " [0. 0. 0. ... 1. 0. 0.]\n",
      " [0. 0. 0. ... 0. 1. 0.]\n",
      " [0. 0. 0. ... 0. 0. 1.]]\n"
     ]
    }
   ],
   "source": [
    "feature_matrix = np.eye((n_states)) # (400, 400)\n",
    "\n",
    "print(feature_matrix)\n",
    "\n",
    "def get_expert_feature_expectations(feature_matrix, demonstrations):\n",
    "    '''\n",
    "    f_tilda = (1/m)*sum all trajectory's feature count\n",
    "    Since our states are encoded as indices for 400 possible states, \n",
    "    this function adds together one-hot encodings of\n",
    "    every state visited by each expert demonstration throughout the\n",
    "    example trajectory and at the end divides the total number of \n",
    "    example trajectories (expert demonstrations)\n",
    "    \n",
    "    for each 400 states indices, aka each (x,v) pairs, \n",
    "    value of 0.5 at that index means that 50% of all trajectories have this state\n",
    "    '''\n",
    "    feature_expectations = np.zeros(feature_matrix.shape[0])\n",
    "    \n",
    "    for demonstration in demonstrations:\n",
    "        for state_idx, _, _ in demonstration:\n",
    "            feature_expectations += feature_matrix[int(state_idx)]\n",
    "\n",
    "    feature_expectations /= demonstrations.shape[0]\n",
    "    return feature_expectations"
   ]
  },
  {
   "cell_type": "code",
   "execution_count": null,
   "metadata": {},
   "outputs": [
    {
     "name": "stdout",
     "output_type": "stream",
     "text": [
      "[-0.6402189  -0.25608659 -0.18902475 -0.13791743 -0.7308277  -0.32730065\n",
      " -0.95429888 -0.42896151] (400,)\n",
      "[0.8  0.65 0.45 0.1  0.   0.   0.   0.   0.   3.4 ] (400,)\n",
      "0 episode score is -200.00\n",
      "1000 episode score is -200.00\n"
     ]
    }
   ],
   "source": [
    "'''\n",
    "Theta θ is the vector containing the reward weights. \n",
    "reward(state_t) = np.dot(θ,f(state_t)), where f is the feature vector of state_t\n",
    "'''\n",
    "theta_learning_rate = 0.05\n",
    "theta = -(np.random.uniform(size=(n_states,)))\n",
    "print(theta[:8], theta.shape)\n",
    "gamma = 0.99\n",
    "q_learning_rate = 0.03\n",
    "\n",
    "expected_expert_feats = get_expert_feature_expectations(feature_matrix, demonstrations) # (400,)\n",
    "print(expected_expert_feats[370:380], expected_expert_feats.shape)\n",
    "\n",
    "'''\n",
    "initialize the learner_feature_counts that when divided by the number of updates \n",
    "becomes he\n",
    "'''\n",
    "learner_feature_counts = np.zeros(n_states)\n",
    "\n",
    "episodes, scores = [], []\n",
    "\n",
    "for episode in range(30000):\n",
    "    state = env.reset()\n",
    "    score = 0\n",
    "\n",
    "    if (episode != 0 and episode == 10000) or (episode > 10000 and episode % 5000 == 0):\n",
    "        \n",
    "        expected_expert_feats = learner_feature_counts / episode\n",
    "        \n",
    "        update_theta(expected_expert_feats, expected_expert_feats, theta, theta_learning_rate)\n",
    "\n",
    "    while True:\n",
    "        state_idx = idx_state(state)\n",
    "        action = np.argmax(q_table[state_idx])\n",
    "        next_state, reward, done, _ = env.step(action)\n",
    "\n",
    "        irl_reward = get_reward(feature_matrix, theta, n_states, state_idx)\n",
    "        next_state_idx = idx_state(next_state)\n",
    "        update_q_table(state_idx, action, irl_reward, q_learning_rate, gamma, next_state_idx)\n",
    "\n",
    "        learner_feature_counts += feature_matrix[int(state_idx)]\n",
    "\n",
    "        score += reward\n",
    "        state = next_state\n",
    "\n",
    "        if done:\n",
    "            scores.append(score)\n",
    "            episodes.append(episode)\n",
    "            break\n",
    "\n",
    "    if episode % 1000 == 0:\n",
    "        score_avg = np.mean(scores)\n",
    "        print('{} episode score is {:.2f}'.format(episode, score_avg))\n",
    "        pylab.plot(episodes, scores, 'b')\n",
    "        pylab.savefig(\"Data/maxent_30000.png\")\n",
    "        np.save(\"Data/maxent_q_table\", arr=q_table)"
   ]
  },
  {
   "cell_type": "code",
   "execution_count": null,
   "metadata": {},
   "outputs": [],
   "source": []
  }
 ],
 "metadata": {
  "kernelspec": {
   "display_name": "Python 3",
   "language": "python",
   "name": "python3"
  },
  "language_info": {
   "codemirror_mode": {
    "name": "ipython",
    "version": 3
   },
   "file_extension": ".py",
   "mimetype": "text/x-python",
   "name": "python",
   "nbconvert_exporter": "python",
   "pygments_lexer": "ipython3",
   "version": "3.8.2"
  }
 },
 "nbformat": 4,
 "nbformat_minor": 2
}
