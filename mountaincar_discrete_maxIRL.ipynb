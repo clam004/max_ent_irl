{
 "cells": [
  {
   "cell_type": "code",
   "execution_count": 1,
   "metadata": {},
   "outputs": [
    {
     "name": "stdout",
     "output_type": "stream",
     "text": [
      "Populating the interactive namespace from numpy and matplotlib\n"
     ]
    }
   ],
   "source": [
    "import gym\n",
    "%pylab inline\n",
    "import pylab\n",
    "import numpy as np"
   ]
  },
  {
   "cell_type": "markdown",
   "metadata": {
    "collapsed": true
   },
   "source": [
    "# Maximum Entropy Inverse Reinforcement Learning (MaxEntIRL)\n",
    "\n",
    "The Mountain Car problem is \"on a one-dimensional track, positioned between two “mountains”. The goal is to drive up the mountain on the right; however, the car’s engine is not strong enough to scale the mountain in a single pass. Therefore, the only way to succeed is to drive back and forth to build up momentum.\"\n",
    "\n",
    "<img src='https://miro.medium.com/max/1104/1*JjBfoFrKCoBxlraVZaEshw.jpeg'>\n",
    "\n",
    "The car’s state, at any point in time, is given by a vector containing its horizonal position and velocity. The car commences each episode stationary, at the bottom of the valley between the hills (at position, x, approximately -0.5), and the episode ends when either the car reaches the flag (position > 0.5) or after 200 moves.\n",
    "\n",
    "Your state, s, is a 2-dim vector that will be (position, velocity) or (x,v) of (-0.5,0) in the beginning because the velocity is 0 and x = -0.5 is the valley between the two mountains which is left of center (there is about a distance of 1.1 in front of you and a distance of -0.7 behind you). Only the x-axis is part of the state, the elevation (y-axis) and gravity is implicit. \n",
    "\n",
    "The velocity is positive is you are moving forward to the right, and negative if you are moving to the left. \n",
    "\n",
    "action 0 is do nothing, action 1 is run the car in reverse towards the left mountain located at `state[0]=-1.2`,\n",
    "action 2 is run the car forward towards `state[0]=0.6`\n"
   ]
  },
  {
   "cell_type": "code",
   "execution_count": 2,
   "metadata": {},
   "outputs": [],
   "source": [
    "# # MACROS\n",
    "Push_Left = 0\n",
    "No_Push = 1\n",
    "Push_Right = 2"
   ]
  },
  {
   "cell_type": "code",
   "execution_count": 3,
   "metadata": {},
   "outputs": [
    {
     "name": "stdout",
     "output_type": "stream",
     "text": [
      "(array([-5.51441521e-01,  2.10148432e-04]), -1.0, False, {})\n",
      "(array([-0.54734753,  0.00120656]), -1.0, False, {})\n",
      "(array([-0.53887077,  0.00198066]), -1.0, False, {})\n",
      "(array([-0.52757438,  0.00238934]), -1.0, False, {})\n",
      "(array([-0.51554377,  0.0023568 ]), -1.0, False, {})\n",
      "(array([-0.50500067,  0.00188908]), -1.0, False, {})\n",
      "(array([-0.49789078,  0.0010729 ]), -1.0, False, {})\n",
      "(array([-4.95524635e-01,  5.90659008e-05]), -1.0, False, {})\n",
      "(array([-0.49833799, -0.00096564]), -1.0, False, {})\n",
      "(array([-0.5058127 , -0.00181248]), -1.0, False, {})\n",
      "(array([-0.51657085, -0.00232503]), -1.0, False, {})\n",
      "(array([-0.52862686, -0.00240831]), -1.0, False, {})\n",
      "(array([-0.5397543 , -0.00204684]), -1.0, False, {})\n",
      "(array([-0.54789909, -0.00130769]), -1.0, False, {})\n",
      "(array([-5.5155948e-01, -3.2755644e-04]), -1.0, False, {})\n",
      "(array([-0.55006126,  0.00071288]), -1.0, False, {})\n",
      "(array([-0.54368032,  0.00162204]), -1.0, False, {})\n",
      "(array([-0.5335926 ,  0.00223214]), -1.0, False, {})\n",
      "(array([-0.52165943,  0.0024302 ]), -1.0, False, {})\n",
      "(array([-0.51008443,  0.00217945]), -1.0, False, {})\n"
     ]
    }
   ],
   "source": [
    "# Initialize environment and reset it to start at valley with 0 velocity\n",
    "env = gym.make('MountainCar-v0')\n",
    "env.reset() # array([-0.44943939,  0.        ])\n",
    "\n",
    "# experiment with constantly moving in one direction or the other to see what happens\n",
    "const_action = No_Push\n",
    "for t in range(100):\n",
    "    update = env.step(const_action)\n",
    "    if t % 5 == 0:\n",
    "        print(update)\n",
    "    \n",
    "# if you do nothing you jus swing side to side, but your position stays in (-0.64,-0.4)\n",
    "# your velocity stays in (-0.01,+0.01)"
   ]
  },
  {
   "cell_type": "code",
   "execution_count": 4,
   "metadata": {},
   "outputs": [
    {
     "name": "stdout",
     "output_type": "stream",
     "text": [
      "(array([-5.76670188e-01,  3.99312757e-04]), -1.0, False, {})\n",
      "(array([-0.5688892 ,  0.00229352]), -1.0, False, {})\n",
      "(array([-0.55276844,  0.00376785]), -1.0, False, {})\n",
      "(array([-0.53126794,  0.00454913]), -1.0, False, {})\n",
      "(array([-0.50835156,  0.00449081]), -1.0, False, {})\n",
      "(array([-0.48824948,  0.00360389]), -1.0, False, {})\n",
      "(array([-0.47466345,  0.00205451]), -1.0, False, {})\n",
      "(array([-4.70084318e-01,  1.29200684e-04]), -1.0, False, {})\n",
      "(array([-0.47534886, -0.0018197 ]), -1.0, False, {})\n",
      "(array([-0.48949492, -0.00343579]), -1.0, False, {})\n",
      "(array([-0.50992817, -0.00442072]), -1.0, False, {})\n",
      "(array([-0.53288486, -0.00459023]), -1.0, False, {})\n",
      "(array([-0.55412721, -0.0039124 ]), -1.0, False, {})\n",
      "(array([-0.56973983, -0.00251452]), -1.0, False, {})\n",
      "(array([-0.5768569 , -0.00065604]), -1.0, False, {})\n",
      "(array([-0.57417709,  0.00132224]), -1.0, False, {})\n",
      "(array([-0.56218997,  0.0030589 ]), -1.0, False, {})\n",
      "(array([-0.54309145,  0.00423435]), -1.0, False, {})\n",
      "(array([-0.52039569,  0.00462942]), -1.0, False, {})\n",
      "(array([-0.49829133,  0.00416975]), -1.0, False, {})\n"
     ]
    }
   ],
   "source": [
    "# Initialize environment and reset it to start at valley with 0 velocity\n",
    "env = gym.make('MountainCar-v0')\n",
    "env.reset() # array([-0.44943939,  0.        ])\n",
    "\n",
    "# experiment with constantly moving in one direction or the other to see what happens\n",
    "# constantly do nothing\n",
    "const_action = No_Push\n",
    "for t in range(100):\n",
    "    update = env.step(const_action)\n",
    "    if t % 5 == 0:\n",
    "        print(update)\n",
    "    \n",
    "# if you do nothing you jus swing side to side, but your position stays in (-0.64,-0.4)\n",
    "# your velocity stays in (-0.01,+0.01)"
   ]
  },
  {
   "cell_type": "code",
   "execution_count": 5,
   "metadata": {},
   "outputs": [
    {
     "name": "stdout",
     "output_type": "stream",
     "text": [
      "(array([-0.54438582,  0.00116452]), -1.0, False, {})\n",
      "(array([-0.52170051,  0.00668544]), -1.0, False, {})\n",
      "(array([-0.47473772,  0.01097268]), -1.0, False, {})\n",
      "(array([-0.41211613,  0.01325768]), -1.0, False, {})\n",
      "(array([-0.34500866,  0.01322262]), -1.0, False, {})\n",
      "(array([-0.28462349,  0.0110607 ]), -1.0, False, {})\n",
      "(array([-0.24004092,  0.00732042]), -1.0, False, {})\n",
      "(array([-0.21718402,  0.0026584 ]), -1.0, False, {})\n",
      "(array([-0.21879356, -0.00231143]), -1.0, False, {})\n",
      "(array([-0.24468352, -0.00701447]), -1.0, False, {})\n",
      "(array([-0.291717  , -0.01084119]), -1.0, False, {})\n",
      "(array([-0.35354552, -0.01313493]), -1.0, False, {})\n",
      "(array([-0.42072829, -0.0133317 ]), -1.0, False, {})\n",
      "(array([-0.48192135, -0.01120595]), -1.0, False, {})\n",
      "(array([-0.52614583, -0.00703892]), -1.0, False, {})\n",
      "(array([-0.54527258, -0.00157326]), -1.0, False, {})\n",
      "(array([-0.53577134,  0.00418271]), -1.0, False, {})\n",
      "(array([-0.49939568,  0.0091666 ]), -1.0, False, {})\n",
      "(array([-0.44285012,  0.01246453]), -1.0, False, {})\n",
      "(array([-0.37639908,  0.01352688]), -1.0, False, {})\n"
     ]
    }
   ],
   "source": [
    "# Initialize environment and reset it to start at valley with 0 velocity\n",
    "env = gym.make('MountainCar-v0')\n",
    "env.reset() # array([-0.44943939,  0.        ])\n",
    "\n",
    "# experiment with constantly moving in one direction or the other to see what happens\n",
    "# constantly go right\n",
    "const_action = Push_Right\n",
    "for t in range(100):\n",
    "    update = env.step(const_action)\n",
    "    if t % 5 == 0:\n",
    "        print(update)\n",
    "    \n",
    "# if you constantly go right,  your position stays in (-0.52,-0.24)\n",
    "# your velocity stays in (-0.011,+0.011)"
   ]
  },
  {
   "cell_type": "code",
   "execution_count": 6,
   "metadata": {},
   "outputs": [
    {
     "name": "stdout",
     "output_type": "stream",
     "text": [
      "(array([-0.51225091, -0.00109329]), -1.0, False, {})\n",
      "(array([-0.53354802, -0.00627624]), -1.0, False, {})\n",
      "(array([-0.57763707, -0.01030161]), -1.0, False, {})\n",
      "(array([-0.63643969, -0.01245113]), -1.0, False, {})\n",
      "(array([-0.6994843 , -0.01242456]), -1.0, False, {})\n",
      "(array([-0.75622619, -0.01039144]), -1.0, False, {})\n",
      "(array([-0.79805129, -0.00685427]), -1.0, False, {})\n",
      "(array([-0.81928314, -0.0024304 ]), -1.0, False, {})\n",
      "(array([-0.81729066,  0.00228558]), -1.0, False, {})\n",
      "(array([-0.79231313,  0.0067272 ]), -1.0, False, {})\n",
      "(array([-0.74748346,  0.01030124]), -1.0, False, {})\n",
      "(array([-0.68900008,  0.01238969]), -1.0, False, {})\n",
      "(array([-0.62590461,  0.01248328]), -1.0, False, {})\n",
      "(array([-0.56889069,  0.01039922]), -1.0, False, {})\n",
      "(array([-0.52818241,  0.006423  ]), -1.0, False, {})\n",
      "(array([-0.51125564,  0.00126229]), -1.0, False, {})\n",
      "(array([-0.5212353 , -0.00413152]), -1.0, False, {})\n",
      "(array([-0.55627863, -0.0087625 ]), -1.0, False, {})\n",
      "(array([-0.60993396, -0.01178506]), -1.0, False, {})\n",
      "(array([-0.67249312, -0.01270195]), -1.0, False, {})\n"
     ]
    }
   ],
   "source": [
    "# Initialize environment and reset it to start at valley with 0 velocity\n",
    "env = gym.make('MountainCar-v0')\n",
    "env.reset() # array([-0.44943939,  0.        ])\n",
    "\n",
    "# experiment with constantly moving in one direction or the other to see what happens\n",
    "# constantly go left\n",
    "const_action = Push_Left\n",
    "for t in range(100):\n",
    "    update = env.step(const_action)\n",
    "    if t % 5 == 0:\n",
    "        print(update)\n",
    "    \n",
    "# if you constantly go left,  your position stays in (-0.85,-0.48)\n",
    "# your velocity stays in (-0.015,+0.011)"
   ]
  },
  {
   "cell_type": "code",
   "execution_count": 7,
   "metadata": {},
   "outputs": [
    {
     "name": "stdout",
     "output_type": "stream",
     "text": [
      "Action space:  Discrete(3)\n"
     ]
    }
   ],
   "source": [
    "print('Action space: ', env.action_space)\n",
    "n_actions = env.action_space.n"
   ]
  },
  {
   "cell_type": "code",
   "execution_count": 8,
   "metadata": {},
   "outputs": [
    {
     "name": "stdout",
     "output_type": "stream",
     "text": [
      "[-1.2  -0.07] [0.6  0.07] [0.09  0.007] 1.8000000715255737 0.14000000432133675\n"
     ]
    }
   ],
   "source": [
    "'''\n",
    "To descretize the state space, we separate the range of possible continuous positions x and\n",
    "continuous velocities v into 20 bins (one_feature)\n",
    "'''\n",
    "\n",
    "n_feature_bins = 20 # number of state per one feature\n",
    "\n",
    "env_low = env.observation_space.low     \n",
    "env_high = env.observation_space.high   \n",
    "env_distance = (env_high - env_low) / n_feature_bins \n",
    "\n",
    "print(env_low, env_high, env_distance, env_distance[0]*20, env_distance[1]*20)\n",
    "# the range of x is 1.8 and velocity is 0.14 \n",
    "\n",
    "n_states = n_feature_bins*n_feature_bins # states are the space of combinations of x and v"
   ]
  },
  {
   "cell_type": "markdown",
   "metadata": {},
   "source": [
    "in the update, the tuple  (array([-0.66511328, -0.01531442]), -1.0, False, {})\n",
    " contains the (state, reward, end_of_episode_bool, meta_data)\n",
    "the meta_data is empty for this environment, there is a negative reward for every timestep that \n",
    " you have not reached the goal yet. "
   ]
  },
  {
   "cell_type": "code",
   "execution_count": 9,
   "metadata": {},
   "outputs": [
    {
     "name": "stdout",
     "output_type": "stream",
     "text": [
      "(20, 130, 3)\n",
      "[-0.90691623 -0.02983074  0.        ] (3,)\n"
     ]
    }
   ],
   "source": [
    "# load the expert 20 demonstrations\n",
    "#expert_demo = np.load('/shared/Carson/RL/lets-do-irl/mountaincar/maxent/expert_demo/expert_demo.npy')\n",
    "expert_demo = np.load('Data/expert_demo.npy')\n",
    "print(expert_demo.shape)\n",
    "# (number of demonstrations, length of demonstrations, states and actions of demonstrations)\n",
    "print(expert_demo[0,60,:], expert_demo[0,0,:].shape)\n",
    "# as you can see from step 60 of the first example, the best strategy is to first accelerate backwards into\n",
    "# the < -0.8 range into order to gain speed going right into the valley. "
   ]
  },
  {
   "cell_type": "code",
   "execution_count": 10,
   "metadata": {},
   "outputs": [],
   "source": [
    "'''\n",
    "using this bin size we descretize the expert demonstrations\n",
    "The difference between expert_demo and demonstrations is that\n",
    "demonstrations consists of discreet integers instead of continuous values\n",
    "for it's states\n",
    "\n",
    "\n",
    "\n",
    "here I used n for sample index and t for timestep index\n",
    "'''\n",
    "def idx_state(state):\n",
    "    '''\n",
    "    this function converts a continuous state vector of\n",
    "    2-dim into a discrete index\n",
    "    \n",
    "    by assigning each state and index of state_idx = position_idx + velocity_idx * one_feature\n",
    "    we make sure that (position_idx, velocity_idx) = (2,3) and (3,2) map to different integers\n",
    "    The first 20 elements of state_idx go to position_idx = 0 - 19, velocity_idx = 0, etc\n",
    "    '''\n",
    "    position_idx = int((state[0] - env_low[0]) / env_distance[0])\n",
    "    velocity_idx = int((state[1] - env_low[1]) / env_distance[1])\n",
    "    state_idx = position_idx + velocity_idx * n_feature_bins\n",
    "    return state_idx\n",
    "\n",
    "demonstrations = np.zeros((len(expert_demo), len(expert_demo[0]), 3))\n",
    "\n",
    "for n in range(len(expert_demo)):\n",
    "    \n",
    "    for t in range(len(expert_demo[0])):\n",
    "\n",
    "        state_idx = idx_state(expert_demo[n][t])\n",
    "\n",
    "        demonstrations[n][t][0] = state_idx\n",
    "        demonstrations[n][t][1] = expert_demo[n][t][2] "
   ]
  },
  {
   "cell_type": "markdown",
   "metadata": {},
   "source": [
    "Q-Learning is a “model-free, off-policy” RL algorithm.\n",
    "\n",
    "“model-free” because we are not trying to build a pre-determined model of our environment (which may or may not be accurate)\n",
    "\n",
    "“off-policy” because our behavior in interacting with (or exploring) the environment may be unrelated to what we believe to be the best optimal at the time of taking the action.\n",
    "\n",
    "You might think of Q-learning as updating a table where each row is a different state and each column is an action that can be taken in that state and where they intersect is the Q-value for that state action pair. the Q-table maps various (state, action) pairs with the Q-value (the expected sum of discounter future rewards when taking action a in state s and behaving optimally thereafter)\n",
    "\n",
    "It doesnt have to be a square table like this though, Q just has to map some state or state-action to some Q-value\n",
    "\n",
    "In the above example you can see that the pattern is that we observe some state, s, take an action a, and receive a new state s’, then repeat. \n",
    "\n",
    "The update rule is the weighted average of the old Q(s,a) value and the Q value implied by the new observation. That is, the sum of (i) the immediate reward and (ii) the expected discounted reward received from the new state onwards, assuming you always choose the optimal action.\n",
    "\n",
    "Q’(s,a) = (1 — alpha) * Q(s, a) + alpha *(r + gamma * Q(s’, argmax a’ : Q(s’, a’)))\n",
    "\n",
    "where argmax a’ : Q(s’, a’) is the action  a’ that has the highest current Q value among our row of states s’\n",
    "\n",
    "This equation for update is equivalently written \n",
    "\n",
    "𝑄(𝑠,𝑎)←𝑄(𝑠,𝑎)+𝛼(𝑟+𝛾*max_𝑎′𝑄(𝑠′,𝑎′)−𝑄(𝑠,𝑎)) \n"
   ]
  },
  {
   "cell_type": "code",
   "execution_count": 11,
   "metadata": {},
   "outputs": [],
   "source": [
    "\n",
    "\n",
    "def update_q_table(state, action, reward, q_learning_rate, gamma, next_state):\n",
    "    ''' \n",
    "    The Q-learning update rule\n",
    "    𝑄(𝑠,𝑎)←𝑄(𝑠,𝑎)+𝛼(𝑟+𝛾*max_𝑎′𝑄(𝑠′,𝑎′)−𝑄(𝑠,𝑎))\n",
    "    𝛾 or gamma, is the discount factor\n",
    "    𝛼 or alpha, is the q_learning_rate\n",
    "    '''\n",
    "    q_1 = q_table[state][action]\n",
    "    #print(reward, gamma, max(q_table[next_state])) \n",
    "    q_2 = reward + gamma * max(q_table[next_state])\n",
    "    q_table[state][action] += q_learning_rate * (q_2 - q_1)"
   ]
  },
  {
   "cell_type": "markdown",
   "metadata": {},
   "source": [
    "# What is Inverse Reinforcement Learning (IRL)\n",
    "\n",
    "In IRL, instead of randomly exploring the world learning by trial and error, we want to approximate the reward function that experts are using by observing expert demonstrations. This reward function is parameterized by theta\n",
    "\n",
    "if $f_si$ is the feature vector of some state_i, then the reward = theta.dot(f_si)"
   ]
  },
  {
   "cell_type": "code",
   "execution_count": 12,
   "metadata": {},
   "outputs": [],
   "source": [
    "def get_reward(feature_matrix, theta, n_states, state_idx):\n",
    "    \n",
    "    '''\n",
    "    theta is the same length as the number of states, so this\n",
    "    just a list of the rewards associated with being in each \n",
    "    state and the function here simply selects the\n",
    "    element in theta that corresponds to the sate\n",
    "    '''\n",
    "    \n",
    "    irl_rewards = feature_matrix.dot(theta).reshape((n_states,))\n",
    "    \n",
    "    return irl_rewards[state_idx]"
   ]
  },
  {
   "cell_type": "markdown",
   "metadata": {},
   "source": [
    "# What is the Objective Function in MaxEntIRL?\n",
    "\n",
    "Maximizing the entropy of the distribution over paths subject to the feature constraints from observed data implies that we maximize the likelihood of the observed data under the maximum entropy (exponential family) distribution.\n",
    "\n",
    "The Product of Probabilites vs The Log Sum of Probabilities\n",
    "\n",
    "$\n",
    "\\log \\left(\\prod_i P(x_i)\\right) = \\sum_i \\log \\left( P(x_i)\\right)\n",
    "$\n",
    "\n",
    "the logarithm is a monotonic transformation that preserves the locations of the extrema, in particular, the estimated parameters in maximum-likelihood are identical for the original and the log-transformed formulation, while also morenumerically stable and symbolically easier to differentiate than the former since the sum rule is easier than the product rule for differentiation\n",
    "\n",
    "Find the Reward Parameters that maximize the likelihood of the expert trajectories, theta_star\n",
    "\n",
    "$ \n",
    "\\theta^{*} = \\underset{\\theta}{\\arg\\max} \\underset{demonstrations}\\prod[P(trajectories|\\theta)] = \\underset{\\theta}{\\arg\\max} \\underset{demonstrations}\\sum log[P(trajectories|\\theta)] = \\underset{\\theta}{\\arg\\max} L(\\theta)\n",
    "$\n",
    "\n",
    "The gradient for this Loss function L is\n",
    "\n",
    "$\\nabla L(\\theta) = f_{expert} - \\underset{trajectories}\\sum P(trajectory|\\theta)f_{learner}\n",
    "= f_{expert} - \\underset{states}\\sum D_{s} f_{s}\n",
    "$\n",
    "\n",
    "Where D_s is the expected state visitation frequencies\n",
    "\n",
    "gradient = expected_expert_feats - expected_learner_feats"
   ]
  },
  {
   "cell_type": "code",
   "execution_count": 13,
   "metadata": {},
   "outputs": [],
   "source": [
    "def update_theta(expert, learner, theta, theta_learning_rate):\n",
    "    '''\n",
    "    The gradient is the difference between expected\n",
    "    empirical feature counts and the learner’s expected feature\n",
    "    counts, which can be expressed in terms of expected state\n",
    "    visitation frequencies, D_si\n",
    "    \n",
    "    the two lines below apply these two formulas\n",
    "    \n",
    "    ∇𝐿(𝜃)=𝑓_𝑒𝑥𝑝𝑒𝑟𝑡−∑𝑡𝑟𝑎𝑗𝑒𝑐𝑡𝑜𝑟𝑖𝑒𝑠𝑃(𝑡𝑟𝑎𝑗𝑒𝑐𝑡𝑜𝑟𝑦|𝜃)𝑓_𝑙𝑒𝑎𝑟𝑛𝑒𝑟=𝑓_𝑒𝑥𝑝𝑒𝑟𝑡−∑𝑠𝑡𝑎𝑡𝑒𝑠𝐷𝑠𝑓𝑠\n",
    "    \n",
    "    𝜃 := 𝜃 + 𝛼∇𝐿(𝜃)\n",
    "    \n",
    "    where 𝛼 is the theta_learning_rate, not the q-learning learning rate\n",
    "    '''\n",
    "    gradient = expert - learner\n",
    "    theta += theta_learning_rate * gradient\n",
    "\n",
    "    # Clip theta\n",
    "    for j in range(len(theta)):\n",
    "        if theta[j] > 0:\n",
    "            theta[j] = 0"
   ]
  },
  {
   "cell_type": "code",
   "execution_count": 14,
   "metadata": {},
   "outputs": [
    {
     "name": "stdout",
     "output_type": "stream",
     "text": [
      "[[1. 0. 0. ... 0. 0. 0.]\n",
      " [0. 1. 0. ... 0. 0. 0.]\n",
      " [0. 0. 1. ... 0. 0. 0.]\n",
      " ...\n",
      " [0. 0. 0. ... 1. 0. 0.]\n",
      " [0. 0. 0. ... 0. 1. 0.]\n",
      " [0. 0. 0. ... 0. 0. 1.]]\n"
     ]
    }
   ],
   "source": [
    "feature_matrix = np.eye((n_states)) # (400, 400)\n",
    "\n",
    "print(feature_matrix)\n",
    "\n",
    "def get_expert_feature_expectations(feature_matrix, demonstrations):\n",
    "    '''\n",
    "    f_tilda = (1/m)*sum all trajectory's feature count\n",
    "    Since our states are encoded as indices for 400 possible states, \n",
    "    this function adds together one-hot encodings of\n",
    "    every state visited by each expert demonstration throughout the\n",
    "    example trajectory and at the end divides the total number of \n",
    "    example trajectories (expert demonstrations)\n",
    "    \n",
    "    for each 400 states indices, aka each (x,v) pairs, \n",
    "    value of 0.5 at that index means that 50% of all trajectories have this state\n",
    "    '''\n",
    "    feature_expectations = np.zeros(feature_matrix.shape[0])\n",
    "    \n",
    "    for demonstration in demonstrations:\n",
    "        for state_idx, _, _ in demonstration:\n",
    "            feature_expectations += feature_matrix[int(state_idx)]\n",
    "\n",
    "    feature_expectations /= demonstrations.shape[0]\n",
    "    return feature_expectations"
   ]
  },
  {
   "cell_type": "code",
   "execution_count": 16,
   "metadata": {},
   "outputs": [
    {
     "name": "stdout",
     "output_type": "stream",
     "text": [
      "0 episode score is -200.00\n",
      "1000 episode score is -200.00\n",
      "2000 episode score is -199.42\n",
      "3000 episode score is -195.83\n",
      "4000 episode score is -196.68\n",
      "MaxEnt Update\n",
      "5000 episode score is -193.92\n",
      "6000 episode score is -198.79\n",
      "7000 episode score is -197.38\n",
      "8000 episode score is -188.32\n",
      "9000 episode score is -192.86\n",
      "MaxEnt Update\n",
      "10000 episode score is -183.22\n",
      "11000 episode score is -191.04\n",
      "12000 episode score is -178.53\n",
      "13000 episode score is -165.99\n",
      "14000 episode score is -168.21\n",
      "MaxEnt Update\n",
      "15000 episode score is -175.68\n",
      "16000 episode score is -160.60\n",
      "17000 episode score is -129.79\n",
      "18000 episode score is -128.47\n",
      "19000 episode score is -128.90\n",
      "MaxEnt Update\n",
      "20000 episode score is -128.31\n",
      "21000 episode score is -124.59\n",
      "22000 episode score is -123.19\n",
      "23000 episode score is -123.05\n",
      "24000 episode score is -123.06\n",
      "MaxEnt Update\n",
      "25000 episode score is -123.27\n",
      "26000 episode score is -123.77\n",
      "27000 episode score is -124.12\n",
      "28000 episode score is -123.79\n",
      "29000 episode score is -123.16\n"
     ]
    },
    {
     "data": {
      "image/png": "[encoded data removed]",
      "text/plain": [
       "<Figure size 432x288 with 1 Axes>"
      ]
     },
     "metadata": {
      "needs_background": "light"
     },
     "output_type": "display_data"
    }
   ],
   "source": [
    "np.random.seed(42)\n",
    "\n",
    "'''\n",
    "Theta θ is the vector containing the reward weights. \n",
    "reward(state_t) = np.dot(θ,f(state_t)), where f is the feature vector of state_t\n",
    "'''\n",
    "theta_learning_rate = 0.05\n",
    "theta = -(np.random.uniform(size=(n_states,)))\n",
    "#print(theta[:4], theta.shape)\n",
    "gamma = 0.99\n",
    "q_learning_rate = 0.03\n",
    "\n",
    "expected_expert_feats = get_expert_feature_expectations(feature_matrix, demonstrations) # (400,)\n",
    "#print(expected_expert_feats[370:380], expected_expert_feats.shape)\n",
    "\n",
    "q_table = np.zeros((n_states, n_actions)) # (400, 3)\n",
    "#q_table = np.random.randint(-200, 0, (n_states, n_actions))\n",
    "\n",
    "'''\n",
    "initialize the learner_feature_counts that when divided by the number of updates \n",
    "becomes the \n",
    "'''\n",
    "learner_feature_counts = np.zeros(n_states)\n",
    "\n",
    "episodes = []\n",
    "scores = []\n",
    "\n",
    "for episode in range(30000):\n",
    "    \n",
    "    state = env.reset()\n",
    "    score = 0\n",
    "\n",
    "    #if (episode != 0 and episode == 10000) or (episode > 10000 and episode % 5000 == 0):\n",
    "    if (episode >= 5000 and episode % 5000 == 0):\n",
    "        \n",
    "        print('MaxEnt Update')\n",
    "        \n",
    "        expected_learner_feats = learner_feature_counts / episode\n",
    "        \n",
    "        update_theta(expected_expert_feats, expected_learner_feats, theta, theta_learning_rate)\n",
    "\n",
    "    # For each episode, run the simulation until the 200 step time limit or success\n",
    "    while True:\n",
    "        state_idx = idx_state(state)\n",
    "        action = np.argmax(q_table[state_idx]) # get the best column, action, from the Q-table\n",
    "        next_state, reward, done, _ = env.step(action) # take action, get new state\n",
    "        \n",
    "        # get approximated reward\n",
    "        irl_reward = get_reward(feature_matrix, theta, n_states, state_idx) \n",
    "        \n",
    "        next_state_idx = idx_state(next_state) \n",
    "        \n",
    "        # update the Q-table using the Q-learning update rule and the approximated reward \n",
    "        update_q_table(state_idx, action, irl_reward, q_learning_rate, gamma, next_state_idx)\n",
    "\n",
    "        learner_feature_counts += feature_matrix[int(state_idx)]\n",
    "\n",
    "        score += reward\n",
    "        state = next_state\n",
    "\n",
    "        if done:\n",
    "            scores.append(score)\n",
    "            episodes.append(episode)\n",
    "            break\n",
    "\n",
    "    if episode % 1000 == 0:\n",
    "        score_avg = np.mean(scores[-1000:])\n",
    "        print('{} episode score is {:.2f}'.format(episode, score_avg))\n",
    "        pylab.plot(episodes, scores, 'b')\n",
    "        pylab.xlabel('episodes')\n",
    "        pylab.ylabel('rewards')\n",
    "        pylab.savefig(\"Data/maxent_30000.png\")\n",
    "        np.save(\"Data/maxent_q_table\", arr=q_table)"
   ]
  },
  {
   "cell_type": "code",
   "execution_count": null,
   "metadata": {},
   "outputs": [],
   "source": []
  }
 ],
 "metadata": {
  "kernelspec": {
   "display_name": "Python 3",
   "language": "python",
   "name": "python3"
  },
  "language_info": {
   "codemirror_mode": {
    "name": "ipython",
    "version": 3
   },
   "file_extension": ".py",
   "mimetype": "text/x-python",
   "name": "python",
   "nbconvert_exporter": "python",
   "pygments_lexer": "ipython3",
   "version": "3.8.2"
  }
 },
 "nbformat": 4,
 "nbformat_minor": 2
}
