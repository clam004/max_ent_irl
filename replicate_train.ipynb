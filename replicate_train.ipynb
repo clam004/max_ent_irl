{
 "cells": [
  {
   "cell_type": "code",
   "execution_count": 1,
   "id": "8bb10b5c",
   "metadata": {},
   "outputs": [],
   "source": [
    "import gym\n",
    "import pylab\n",
    "import numpy as np"
   ]
  },
  {
   "cell_type": "code",
   "execution_count": 12,
   "id": "5255839e",
   "metadata": {},
   "outputs": [],
   "source": [
    "def get_reward(feature_matrix, theta, n_states, state_idx):\n",
    "    irl_rewards = feature_matrix.dot(theta).reshape((n_states,))\n",
    "    return irl_rewards[state_idx]\n",
    "\n",
    "def expert_feature_expectations(feature_matrix, demonstrations):\n",
    "    feature_expectations = np.zeros(feature_matrix.shape[0])\n",
    "    \n",
    "    for demonstration in demonstrations:\n",
    "        for state_idx, _, _ in demonstration:\n",
    "            feature_expectations += feature_matrix[int(state_idx)]\n",
    "\n",
    "    feature_expectations /= demonstrations.shape[0]\n",
    "    return feature_expectations\n",
    "\n",
    "def maxent_irl(expert, learner, theta, learning_rate):\n",
    "    gradient = expert - learner\n",
    "    theta += learning_rate * gradient\n",
    "\n",
    "    # Clip theta\n",
    "    for j in range(len(theta)):\n",
    "        if theta[j] > 0:\n",
    "            theta[j] = 0\n",
    "\n",
    "def idx_demo(env, one_feature):\n",
    "    env_low = env.observation_space.low     \n",
    "    env_high = env.observation_space.high   \n",
    "    env_distance = (env_high - env_low) / one_feature  \n",
    "\n",
    "    raw_demo = np.load(file='Data/expert_demo.npy')\n",
    "    demonstrations = np.zeros((len(raw_demo), len(raw_demo[0]), 3))\n",
    "\n",
    "    for x in range(len(raw_demo)):\n",
    "        for y in range(len(raw_demo[0])):\n",
    "            position_idx = int((raw_demo[x][y][0] - env_low[0]) / env_distance[0])\n",
    "            velocity_idx = int((raw_demo[x][y][1] - env_low[1]) / env_distance[1])\n",
    "            state_idx = position_idx + velocity_idx * one_feature\n",
    "\n",
    "            demonstrations[x][y][0] = state_idx\n",
    "            demonstrations[x][y][1] = raw_demo[x][y][2] \n",
    "            \n",
    "    return demonstrations\n",
    "\n",
    "def idx_state(env, state):\n",
    "    env_low = env.observation_space.low\n",
    "    env_high = env.observation_space.high \n",
    "    env_distance = (env_high - env_low) / one_feature \n",
    "    position_idx = int((state[0] - env_low[0]) / env_distance[0])\n",
    "    velocity_idx = int((state[1] - env_low[1]) / env_distance[1])\n",
    "    state_idx = position_idx + velocity_idx * one_feature\n",
    "    return state_idx\n",
    "\n",
    "def update_q_table(state, action, reward, next_state):\n",
    "    q_1 = q_table[state][action]\n",
    "    q_2 = reward + gamma * max(q_table[next_state])\n",
    "    q_table[state][action] += q_learning_rate * (q_2 - q_1)"
   ]
  },
  {
   "cell_type": "code",
   "execution_count": 13,
   "id": "724601a8",
   "metadata": {},
   "outputs": [],
   "source": [
    "n_states = 400 # position - 20, velocity - 20\n",
    "n_actions = 3\n",
    "one_feature = 20 # number of state per one feature\n",
    "q_table = np.zeros((n_states, n_actions)) # (400, 3)\n",
    "feature_matrix = np.eye((n_states)) # (400, 400)\n",
    "\n",
    "gamma = 0.99\n",
    "q_learning_rate = 0.03\n",
    "theta_learning_rate = 0.05\n",
    "\n",
    "np.random.seed(1)"
   ]
  },
  {
   "cell_type": "code",
   "execution_count": 14,
   "id": "a9e82a0e",
   "metadata": {},
   "outputs": [
    {
     "name": "stdout",
     "output_type": "stream",
     "text": [
      "0 episode score is -200.00\n",
      "1000 episode score is -200.00\n",
      "2000 episode score is -199.27\n",
      "3000 episode score is -196.50\n"
     ]
    },
    {
     "ename": "KeyboardInterrupt",
     "evalue": "",
     "output_type": "error",
     "traceback": [
      "\u001b[0;31m---------------------------------------------------------------------------\u001b[0m",
      "\u001b[0;31mKeyboardInterrupt\u001b[0m                         Traceback (most recent call last)",
      "\u001b[0;32m<ipython-input-14-ab7750f445bc>\u001b[0m in \u001b[0;36m<module>\u001b[0;34m\u001b[0m\n\u001b[1;32m     29\u001b[0m \u001b[0;34m\u001b[0m\u001b[0m\n\u001b[1;32m     30\u001b[0m         \u001b[0mscore\u001b[0m \u001b[0;34m+=\u001b[0m \u001b[0mreward\u001b[0m\u001b[0;34m\u001b[0m\u001b[0;34m\u001b[0m\u001b[0m\n\u001b[0;32m---> 31\u001b[0;31m         \u001b[0mstate\u001b[0m \u001b[0;34m=\u001b[0m \u001b[0mnext_state\u001b[0m\u001b[0;34m\u001b[0m\u001b[0;34m\u001b[0m\u001b[0m\n\u001b[0m\u001b[1;32m     32\u001b[0m \u001b[0;34m\u001b[0m\u001b[0m\n\u001b[1;32m     33\u001b[0m         \u001b[0;32mif\u001b[0m \u001b[0mdone\u001b[0m\u001b[0;34m:\u001b[0m\u001b[0;34m\u001b[0m\u001b[0;34m\u001b[0m\u001b[0m\n",
      "\u001b[0;31mKeyboardInterrupt\u001b[0m: "
     ]
    },
    {
     "data": {
      "image/png": "[encoded data removed]",
      "text/plain": [
       "<Figure size 432x288 with 1 Axes>"
      ]
     },
     "metadata": {
      "needs_background": "light"
     },
     "output_type": "display_data"
    }
   ],
   "source": [
    "env = gym.make('MountainCar-v0')\n",
    "demonstrations = idx_demo(env, one_feature)\n",
    "\n",
    "expert = expert_feature_expectations(feature_matrix, demonstrations)\n",
    "learner_feature_expectations = np.zeros(n_states)\n",
    "\n",
    "theta = -(np.random.uniform(size=(n_states,)))\n",
    "\n",
    "episodes, scores = [], []\n",
    "\n",
    "for episode in range(30000):\n",
    "    state = env.reset()\n",
    "    score = 0\n",
    "\n",
    "    if (episode != 0 and episode == 10000) or (episode > 10000 and episode % 5000 == 0):\n",
    "        learner = learner_feature_expectations / episode\n",
    "        maxent_irl(expert, learner, theta, theta_learning_rate)\n",
    "\n",
    "    while True:\n",
    "        state_idx = idx_state(env, state)\n",
    "        action = np.argmax(q_table[state_idx])\n",
    "        next_state, reward, done, _ = env.step(action)\n",
    "\n",
    "        irl_reward = get_reward(feature_matrix, theta, n_states, state_idx)\n",
    "        next_state_idx = idx_state(env, next_state)\n",
    "        update_q_table(state_idx, action, irl_reward, next_state_idx)\n",
    "\n",
    "        learner_feature_expectations += feature_matrix[int(state_idx)]\n",
    "\n",
    "        score += reward\n",
    "        state = next_state\n",
    "\n",
    "        if done:\n",
    "            scores.append(score)\n",
    "            episodes.append(episode)\n",
    "            break\n",
    "\n",
    "    if episode % 1000 == 0:\n",
    "        score_avg = np.mean(scores)\n",
    "        print('{} episode score is {:.2f}'.format(episode, score_avg))\n",
    "        pylab.plot(episodes, scores, 'b')\n",
    "        pylab.savefig(\"Data/maxent0_30000.png\")\n",
    "        np.save(\"Data/maxent0_q_table\", arr=q_table)"
   ]
  },
  {
   "cell_type": "code",
   "execution_count": null,
   "id": "085d8c50",
   "metadata": {},
   "outputs": [],
   "source": []
  },
  {
   "cell_type": "code",
   "execution_count": null,
   "id": "7a6f364b",
   "metadata": {},
   "outputs": [],
   "source": []
  }
 ],
 "metadata": {
  "kernelspec": {
   "display_name": "Python 3",
   "language": "python",
   "name": "python3"
  },
  "language_info": {
   "codemirror_mode": {
    "name": "ipython",
    "version": 3
   },
   "file_extension": ".py",
   "mimetype": "text/x-python",
   "name": "python",
   "nbconvert_exporter": "python",
   "pygments_lexer": "ipython3",
   "version": "3.8.2"
  }
 },
 "nbformat": 4,
 "nbformat_minor": 5
}
